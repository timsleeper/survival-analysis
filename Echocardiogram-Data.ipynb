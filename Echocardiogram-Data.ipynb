{
 "cells": [
  {
   "cell_type": "code",
   "execution_count": 12,
   "metadata": {},
   "outputs": [],
   "source": [
    "import pandas as pd\n",
    "import matplotlib.pyplot as plt\n",
    "import numpy as np\n",
    "import seaborn as sns\n",
    "from lifelines import KaplanMeierFitter"
   ]
  },
  {
   "cell_type": "code",
   "execution_count": 13,
   "metadata": {},
   "outputs": [],
   "source": [
    "data = pd.read_csv('datasets/echocardiogram.csv')"
   ]
  },
  {
   "cell_type": "code",
   "execution_count": 14,
   "metadata": {},
   "outputs": [
    {
     "data": {
      "text/html": [
       "<div>\n",
       "<style scoped>\n",
       "    .dataframe tbody tr th:only-of-type {\n",
       "        vertical-align: middle;\n",
       "    }\n",
       "\n",
       "    .dataframe tbody tr th {\n",
       "        vertical-align: top;\n",
       "    }\n",
       "\n",
       "    .dataframe thead th {\n",
       "        text-align: right;\n",
       "    }\n",
       "</style>\n",
       "<table border=\"1\" class=\"dataframe\">\n",
       "  <thead>\n",
       "    <tr style=\"text-align: right;\">\n",
       "      <th></th>\n",
       "      <th>survival</th>\n",
       "      <th>alive</th>\n",
       "      <th>age</th>\n",
       "      <th>pericardialeffusion</th>\n",
       "      <th>fractionalshortening</th>\n",
       "      <th>epss</th>\n",
       "      <th>lvdd</th>\n",
       "      <th>wallmotion-score</th>\n",
       "      <th>wallmotion-index</th>\n",
       "      <th>mult</th>\n",
       "      <th>name</th>\n",
       "      <th>group</th>\n",
       "      <th>aliveat1</th>\n",
       "    </tr>\n",
       "  </thead>\n",
       "  <tbody>\n",
       "    <tr>\n",
       "      <th>0</th>\n",
       "      <td>11.0</td>\n",
       "      <td>0.0</td>\n",
       "      <td>71.0</td>\n",
       "      <td>0.0</td>\n",
       "      <td>0.260</td>\n",
       "      <td>9.000</td>\n",
       "      <td>4.600</td>\n",
       "      <td>14.0</td>\n",
       "      <td>1.00</td>\n",
       "      <td>1.000</td>\n",
       "      <td>name</td>\n",
       "      <td>1</td>\n",
       "      <td>0.0</td>\n",
       "    </tr>\n",
       "    <tr>\n",
       "      <th>1</th>\n",
       "      <td>19.0</td>\n",
       "      <td>0.0</td>\n",
       "      <td>72.0</td>\n",
       "      <td>0.0</td>\n",
       "      <td>0.380</td>\n",
       "      <td>6.000</td>\n",
       "      <td>4.100</td>\n",
       "      <td>14.0</td>\n",
       "      <td>1.70</td>\n",
       "      <td>0.588</td>\n",
       "      <td>name</td>\n",
       "      <td>1</td>\n",
       "      <td>0.0</td>\n",
       "    </tr>\n",
       "    <tr>\n",
       "      <th>2</th>\n",
       "      <td>16.0</td>\n",
       "      <td>0.0</td>\n",
       "      <td>55.0</td>\n",
       "      <td>0.0</td>\n",
       "      <td>0.260</td>\n",
       "      <td>4.000</td>\n",
       "      <td>3.420</td>\n",
       "      <td>14.0</td>\n",
       "      <td>1.00</td>\n",
       "      <td>1.000</td>\n",
       "      <td>name</td>\n",
       "      <td>1</td>\n",
       "      <td>0.0</td>\n",
       "    </tr>\n",
       "    <tr>\n",
       "      <th>3</th>\n",
       "      <td>57.0</td>\n",
       "      <td>0.0</td>\n",
       "      <td>60.0</td>\n",
       "      <td>0.0</td>\n",
       "      <td>0.253</td>\n",
       "      <td>12.062</td>\n",
       "      <td>4.603</td>\n",
       "      <td>16.0</td>\n",
       "      <td>1.45</td>\n",
       "      <td>0.788</td>\n",
       "      <td>name</td>\n",
       "      <td>1</td>\n",
       "      <td>0.0</td>\n",
       "    </tr>\n",
       "    <tr>\n",
       "      <th>4</th>\n",
       "      <td>19.0</td>\n",
       "      <td>1.0</td>\n",
       "      <td>57.0</td>\n",
       "      <td>0.0</td>\n",
       "      <td>0.160</td>\n",
       "      <td>22.000</td>\n",
       "      <td>5.750</td>\n",
       "      <td>18.0</td>\n",
       "      <td>2.25</td>\n",
       "      <td>0.571</td>\n",
       "      <td>name</td>\n",
       "      <td>1</td>\n",
       "      <td>0.0</td>\n",
       "    </tr>\n",
       "  </tbody>\n",
       "</table>\n",
       "</div>"
      ],
      "text/plain": [
       "   survival  alive   age  pericardialeffusion  fractionalshortening    epss  \\\n",
       "0      11.0    0.0  71.0                  0.0                 0.260   9.000   \n",
       "1      19.0    0.0  72.0                  0.0                 0.380   6.000   \n",
       "2      16.0    0.0  55.0                  0.0                 0.260   4.000   \n",
       "3      57.0    0.0  60.0                  0.0                 0.253  12.062   \n",
       "4      19.0    1.0  57.0                  0.0                 0.160  22.000   \n",
       "\n",
       "    lvdd  wallmotion-score  wallmotion-index   mult  name group  aliveat1  \n",
       "0  4.600              14.0              1.00  1.000  name     1       0.0  \n",
       "1  4.100              14.0              1.70  0.588  name     1       0.0  \n",
       "2  3.420              14.0              1.00  1.000  name     1       0.0  \n",
       "3  4.603              16.0              1.45  0.788  name     1       0.0  \n",
       "4  5.750              18.0              2.25  0.571  name     1       0.0  "
      ]
     },
     "execution_count": 14,
     "metadata": {},
     "output_type": "execute_result"
    }
   ],
   "source": [
    "data.head()"
   ]
  },
  {
   "cell_type": "code",
   "execution_count": 33,
   "metadata": {},
   "outputs": [],
   "source": [
    "has_pericardial_effusion = data[data['pericardialeffusion'] == 1.0]\n",
    "none_pericardial_effusion = data[data['pericardialeffusion'] == 0.0]\n",
    "\n",
    "has_pericardial_effusion = has_pericardial_effusion[['survival', 'alive', 'age', 'pericardialeffusion', 'name']]\n",
    "none_pericardial_effusion = none_pericardial_effusion[['survival', 'alive', 'age', 'pericardialeffusion', 'name']]\n",
    "\n",
    "has_pericardial_effusion['observed'] = has_pericardial_effusion['alive'] + 1.0\n",
    "has_pericardial_effusion['observed'] = has_pericardial_effusion['observed'].replace(2.0, 0.0)\n",
    "\n",
    "none_pericardial_effusion['observed'] = none_pericardial_effusion['alive'] + 1.0\n",
    "none_pericardial_effusion['observed'] = none_pericardial_effusion['observed'].replace(2.0, 0.0)\n",
    "\n",
    "has_pericardial_effusion = has_pericardial_effusion.dropna()\n",
    "none_pericardial_effusion = none_pericardial_effusion.dropna()"
   ]
  },
  {
   "cell_type": "markdown",
   "metadata": {},
   "source": [
    "## Heart disease patient survival\n",
    "You're a data scientist at a clinical research organization that studies heart diseases. You wonder if pericardial effusion, fluid build-up around the heart, affects heart attack patients' survival outcomes. In this exercise, you will explore how to use two statistical methods to compare survival distributions from patients with and without pericardial effusion.\n",
    "\n",
    "The data is split up into two DataFrames:\n",
    "\n",
    "* ```has_pericardial_effusion```: patients with pericardial effusion\n",
    "* ```none_pericardial_effusion```: patients without pericardial effusion \n",
    "\n",
    "The ```pandas``` package is loaded as `pd` and the `KaplanMeierFitter` class is imported from lifelines."
   ]
  },
  {
   "cell_type": "code",
   "execution_count": 34,
   "metadata": {},
   "outputs": [
    {
     "data": {
      "text/plain": [
       "<lifelines.KaplanMeierFitter:\"KM_estimate\", fitted with 101 total observations, 28 right-censored observations>"
      ]
     },
     "execution_count": 34,
     "metadata": {},
     "output_type": "execute_result"
    }
   ],
   "source": [
    "# Instantiate Kaplan Meier object for patients with and without pericardial effusion\n",
    "kmf_has_pe = KaplanMeierFitter()\n",
    "kmf_no_pe = KaplanMeierFitter()\n",
    "\n",
    "# Fit Kaplan Meier estimators to each DataFrame\n",
    "kmf_has_pe.fit(durations=has_pericardial_effusion['survival'], \n",
    "          event_observed=has_pericardial_effusion['observed'])\n",
    "kmf_no_pe.fit(durations=none_pericardial_effusion['survival'], \n",
    "          event_observed=none_pericardial_effusion['observed'])"
   ]
  },
  {
   "cell_type": "code",
   "execution_count": 35,
   "metadata": {},
   "outputs": [
    {
     "name": "stdout",
     "output_type": "stream",
     "text": [
      "The median survival duration (months) of patients with pericardial effusion:  27.0\n",
      "The median survival duration (months) of patients without pericardial effusion:  31.0\n"
     ]
    }
   ],
   "source": [
    "# Print out the median survival duration of each group\n",
    "print(\"The median survival duration (months) of patients with pericardial effusion: \", kmf_has_pe.median_survival_time_)\n",
    "print(\"The median survival duration (months) of patients without pericardial effusion: \", kmf_no_pe.median_survival_time_)"
   ]
  },
  {
   "cell_type": "markdown",
   "metadata": {},
   "source": [
    "Based on the data, Patients without pericardial effusion have a longer lifetime than patients with pericardial effusion."
   ]
  },
  {
   "cell_type": "code",
   "execution_count": null,
   "metadata": {},
   "outputs": [],
   "source": []
  },
  {
   "cell_type": "markdown",
   "metadata": {},
   "source": []
  },
  {
   "cell_type": "code",
   "execution_count": null,
   "metadata": {},
   "outputs": [],
   "source": []
  }
 ],
 "metadata": {
  "interpreter": {
   "hash": "49b7c60525ac57614c77ce62a7fbc5562e422dd33509878f72c73a45c9f1d947"
  },
  "kernelspec": {
   "display_name": "Python 3.9.6 64-bit ('base': conda)",
   "language": "python",
   "name": "python3"
  },
  "language_info": {
   "codemirror_mode": {
    "name": "ipython",
    "version": 3
   },
   "file_extension": ".py",
   "mimetype": "text/x-python",
   "name": "python",
   "nbconvert_exporter": "python",
   "pygments_lexer": "ipython3",
   "version": "3.9.6"
  },
  "orig_nbformat": 4
 },
 "nbformat": 4,
 "nbformat_minor": 2
}
