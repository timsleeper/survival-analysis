{
 "cells": [
  {
   "cell_type": "code",
   "execution_count": 94,
   "metadata": {},
   "outputs": [],
   "source": [
    "import pandas as pd\n",
    "import matplotlib.pyplot as plt\n",
    "import numpy as np\n",
    "import seaborn as sns\n",
    "from lifelines import KaplanMeierFitter\n",
    "from lifelines import WeibullFitter\n",
    "from lifelines import ExponentialFitter\n",
    "from lifelines import LogNormalFitter"
   ]
  },
  {
   "cell_type": "code",
   "execution_count": 95,
   "metadata": {},
   "outputs": [],
   "source": [
    "data = pd.read_csv('datasets/echocardiogram.csv')"
   ]
  },
  {
   "cell_type": "code",
   "execution_count": 96,
   "metadata": {},
   "outputs": [
    {
     "data": {
      "text/html": [
       "<div>\n",
       "<style scoped>\n",
       "    .dataframe tbody tr th:only-of-type {\n",
       "        vertical-align: middle;\n",
       "    }\n",
       "\n",
       "    .dataframe tbody tr th {\n",
       "        vertical-align: top;\n",
       "    }\n",
       "\n",
       "    .dataframe thead th {\n",
       "        text-align: right;\n",
       "    }\n",
       "</style>\n",
       "<table border=\"1\" class=\"dataframe\">\n",
       "  <thead>\n",
       "    <tr style=\"text-align: right;\">\n",
       "      <th></th>\n",
       "      <th>survival</th>\n",
       "      <th>alive</th>\n",
       "      <th>age</th>\n",
       "      <th>pericardialeffusion</th>\n",
       "      <th>fractionalshortening</th>\n",
       "      <th>epss</th>\n",
       "      <th>lvdd</th>\n",
       "      <th>wallmotion-score</th>\n",
       "      <th>wallmotion-index</th>\n",
       "      <th>mult</th>\n",
       "      <th>name</th>\n",
       "      <th>group</th>\n",
       "      <th>aliveat1</th>\n",
       "    </tr>\n",
       "  </thead>\n",
       "  <tbody>\n",
       "    <tr>\n",
       "      <th>0</th>\n",
       "      <td>11.0</td>\n",
       "      <td>0.0</td>\n",
       "      <td>71.0</td>\n",
       "      <td>0.0</td>\n",
       "      <td>0.260</td>\n",
       "      <td>9.000</td>\n",
       "      <td>4.600</td>\n",
       "      <td>14.0</td>\n",
       "      <td>1.00</td>\n",
       "      <td>1.000</td>\n",
       "      <td>name</td>\n",
       "      <td>1</td>\n",
       "      <td>0.0</td>\n",
       "    </tr>\n",
       "    <tr>\n",
       "      <th>1</th>\n",
       "      <td>19.0</td>\n",
       "      <td>0.0</td>\n",
       "      <td>72.0</td>\n",
       "      <td>0.0</td>\n",
       "      <td>0.380</td>\n",
       "      <td>6.000</td>\n",
       "      <td>4.100</td>\n",
       "      <td>14.0</td>\n",
       "      <td>1.70</td>\n",
       "      <td>0.588</td>\n",
       "      <td>name</td>\n",
       "      <td>1</td>\n",
       "      <td>0.0</td>\n",
       "    </tr>\n",
       "    <tr>\n",
       "      <th>2</th>\n",
       "      <td>16.0</td>\n",
       "      <td>0.0</td>\n",
       "      <td>55.0</td>\n",
       "      <td>0.0</td>\n",
       "      <td>0.260</td>\n",
       "      <td>4.000</td>\n",
       "      <td>3.420</td>\n",
       "      <td>14.0</td>\n",
       "      <td>1.00</td>\n",
       "      <td>1.000</td>\n",
       "      <td>name</td>\n",
       "      <td>1</td>\n",
       "      <td>0.0</td>\n",
       "    </tr>\n",
       "    <tr>\n",
       "      <th>3</th>\n",
       "      <td>57.0</td>\n",
       "      <td>0.0</td>\n",
       "      <td>60.0</td>\n",
       "      <td>0.0</td>\n",
       "      <td>0.253</td>\n",
       "      <td>12.062</td>\n",
       "      <td>4.603</td>\n",
       "      <td>16.0</td>\n",
       "      <td>1.45</td>\n",
       "      <td>0.788</td>\n",
       "      <td>name</td>\n",
       "      <td>1</td>\n",
       "      <td>0.0</td>\n",
       "    </tr>\n",
       "    <tr>\n",
       "      <th>4</th>\n",
       "      <td>19.0</td>\n",
       "      <td>1.0</td>\n",
       "      <td>57.0</td>\n",
       "      <td>0.0</td>\n",
       "      <td>0.160</td>\n",
       "      <td>22.000</td>\n",
       "      <td>5.750</td>\n",
       "      <td>18.0</td>\n",
       "      <td>2.25</td>\n",
       "      <td>0.571</td>\n",
       "      <td>name</td>\n",
       "      <td>1</td>\n",
       "      <td>0.0</td>\n",
       "    </tr>\n",
       "  </tbody>\n",
       "</table>\n",
       "</div>"
      ],
      "text/plain": [
       "   survival  alive   age  pericardialeffusion  fractionalshortening    epss  \\\n",
       "0      11.0    0.0  71.0                  0.0                 0.260   9.000   \n",
       "1      19.0    0.0  72.0                  0.0                 0.380   6.000   \n",
       "2      16.0    0.0  55.0                  0.0                 0.260   4.000   \n",
       "3      57.0    0.0  60.0                  0.0                 0.253  12.062   \n",
       "4      19.0    1.0  57.0                  0.0                 0.160  22.000   \n",
       "\n",
       "    lvdd  wallmotion-score  wallmotion-index   mult  name group  aliveat1  \n",
       "0  4.600              14.0              1.00  1.000  name     1       0.0  \n",
       "1  4.100              14.0              1.70  0.588  name     1       0.0  \n",
       "2  3.420              14.0              1.00  1.000  name     1       0.0  \n",
       "3  4.603              16.0              1.45  0.788  name     1       0.0  \n",
       "4  5.750              18.0              2.25  0.571  name     1       0.0  "
      ]
     },
     "execution_count": 96,
     "metadata": {},
     "output_type": "execute_result"
    }
   ],
   "source": [
    "data.head()"
   ]
  },
  {
   "cell_type": "code",
   "execution_count": 97,
   "metadata": {},
   "outputs": [],
   "source": [
    "has_pericardial_effusion = data[data['pericardialeffusion'] == 1.0]\n",
    "none_pericardial_effusion = data[data['pericardialeffusion'] == 0.0]\n",
    "\n",
    "has_pericardial_effusion = has_pericardial_effusion[['survival', 'alive', 'age', 'pericardialeffusion', 'name']]\n",
    "none_pericardial_effusion = none_pericardial_effusion[['survival', 'alive', 'age', 'pericardialeffusion', 'name']]\n",
    "\n",
    "has_pericardial_effusion['observed'] = has_pericardial_effusion['alive'] + 1.0\n",
    "has_pericardial_effusion['observed'] = has_pericardial_effusion['observed'].replace(2.0, 0.0)\n",
    "\n",
    "none_pericardial_effusion['observed'] = none_pericardial_effusion['alive'] + 1.0\n",
    "none_pericardial_effusion['observed'] = none_pericardial_effusion['observed'].replace(2.0, 0.0)\n",
    "\n",
    "has_pericardial_effusion = has_pericardial_effusion.dropna()\n",
    "none_pericardial_effusion = none_pericardial_effusion.dropna()"
   ]
  },
  {
   "cell_type": "markdown",
   "metadata": {},
   "source": [
    "## Heart disease patient survival\n",
    "You're a data scientist at a clinical research organization that studies heart diseases. You wonder if pericardial effusion, fluid build-up around the heart, affects heart attack patients' survival outcomes. In this exercise, you will explore how to use two statistical methods to compare survival distributions from patients with and without pericardial effusion.\n",
    "\n",
    "The data is split up into two DataFrames:\n",
    "\n",
    "* ```has_pericardial_effusion```: patients with pericardial effusion\n",
    "* ```none_pericardial_effusion```: patients without pericardial effusion \n",
    "\n",
    "The ```pandas``` package is loaded as `pd` and the `KaplanMeierFitter` class is imported from lifelines."
   ]
  },
  {
   "cell_type": "code",
   "execution_count": 98,
   "metadata": {},
   "outputs": [
    {
     "data": {
      "text/plain": [
       "<lifelines.KaplanMeierFitter:\"KM_estimate\", fitted with 101 total observations, 28 right-censored observations>"
      ]
     },
     "execution_count": 98,
     "metadata": {},
     "output_type": "execute_result"
    }
   ],
   "source": [
    "# Instantiate Kaplan Meier object for patients with and without pericardial effusion\n",
    "kmf_has_pe = KaplanMeierFitter()\n",
    "kmf_no_pe = KaplanMeierFitter()\n",
    "\n",
    "# Fit Kaplan Meier estimators to each DataFrame\n",
    "kmf_has_pe.fit(durations=has_pericardial_effusion['survival'], \n",
    "          event_observed=has_pericardial_effusion['observed'])\n",
    "kmf_no_pe.fit(durations=none_pericardial_effusion['survival'], \n",
    "          event_observed=none_pericardial_effusion['observed'])"
   ]
  },
  {
   "cell_type": "code",
   "execution_count": 99,
   "metadata": {},
   "outputs": [
    {
     "name": "stdout",
     "output_type": "stream",
     "text": [
      "The median survival duration (months) of patients with pericardial effusion:  27.0\n",
      "The median survival duration (months) of patients without pericardial effusion:  31.0\n"
     ]
    }
   ],
   "source": [
    "# Print out the median survival duration of each group\n",
    "print(\"The median survival duration (months) of patients with pericardial effusion: \", kmf_has_pe.median_survival_time_)\n",
    "print(\"The median survival duration (months) of patients without pericardial effusion: \", kmf_no_pe.median_survival_time_)"
   ]
  },
  {
   "cell_type": "markdown",
   "metadata": {},
   "source": [
    "Based on the data, Patients without pericardial effusion have a longer lifetime than patients with pericardial effusion."
   ]
  },
  {
   "cell_type": "code",
   "execution_count": 100,
   "metadata": {},
   "outputs": [
    {
     "data": {
      "image/png": "[encoded data removed]",
      "text/plain": [
       "<Figure size 432x288 with 1 Axes>"
      ]
     },
     "metadata": {
      "needs_background": "light"
     },
     "output_type": "display_data"
    }
   ],
   "source": [
    "kmf = KaplanMeierFitter()\n",
    "\n",
    "# Fit kmf to patients with pericardial effusion\n",
    "kmf.fit(has_pericardial_effusion['survival'], has_pericardial_effusion['observed'], label='has_pericardial_effusion')\n",
    "\n",
    "# Create a plot of the survival function\n",
    "surv_plot = kmf.plot()\n",
    "\n",
    "# Fit kmf to patients without pericardial effusion\n",
    "kmf.fit(none_pericardial_effusion['survival'], none_pericardial_effusion['observed'], label='no_pericardial_effusion')\n",
    "\n",
    "# Plot new survival function and show plot\n",
    "kmf.plot(ax=surv_plot)\n",
    "plt.show()"
   ]
  },
  {
   "cell_type": "code",
   "execution_count": 101,
   "metadata": {},
   "outputs": [],
   "source": [
    "# Fit kmf to patients without pericardial effusion\n",
    "kmf.fit(none_pericardial_effusion['survival'], none_pericardial_effusion['observed'], label='no_pericardial_effusion')\n",
    "\n",
    "# Plot new survival function and show plot\n",
    "kmf.plot(ax=surv_plot)\n",
    "plt.show()"
   ]
  },
  {
   "cell_type": "code",
   "execution_count": 102,
   "metadata": {},
   "outputs": [
    {
     "data": {
      "text/html": [
       "<div>\n",
       "<style scoped>\n",
       "    .dataframe tbody tr th:only-of-type {\n",
       "        vertical-align: middle;\n",
       "    }\n",
       "\n",
       "    .dataframe tbody tr th {\n",
       "        vertical-align: top;\n",
       "    }\n",
       "\n",
       "    .dataframe thead th {\n",
       "        text-align: right;\n",
       "    }\n",
       "</style>\n",
       "<table border=\"1\" class=\"dataframe\">\n",
       "  <tbody>\n",
       "    <tr>\n",
       "      <th>t_0</th>\n",
       "      <td>-1</td>\n",
       "    </tr>\n",
       "    <tr>\n",
       "      <th>null_distribution</th>\n",
       "      <td>chi squared</td>\n",
       "    </tr>\n",
       "    <tr>\n",
       "      <th>degrees_of_freedom</th>\n",
       "      <td>1</td>\n",
       "    </tr>\n",
       "    <tr>\n",
       "      <th>test_name</th>\n",
       "      <td>logrank_test</td>\n",
       "    </tr>\n",
       "  </tbody>\n",
       "</table>\n",
       "</div><table border=\"1\" class=\"dataframe\">\n",
       "  <thead>\n",
       "    <tr style=\"text-align: right;\">\n",
       "      <th></th>\n",
       "      <th>test_statistic</th>\n",
       "      <th>p</th>\n",
       "      <th>-log2(p)</th>\n",
       "    </tr>\n",
       "  </thead>\n",
       "  <tbody>\n",
       "    <tr>\n",
       "      <th>0</th>\n",
       "      <td>0.03</td>\n",
       "      <td>0.86</td>\n",
       "      <td>0.21</td>\n",
       "    </tr>\n",
       "  </tbody>\n",
       "</table>"
      ],
      "text/latex": [
       "\\begin{tabular}{lrrr}\n",
       "\\toprule\n",
       "{} &  test\\_statistic &         p &  -log2(p) \\\\\n",
       "\\midrule\n",
       "0 &        0.028961 &  0.864868 &  0.209448 \\\\\n",
       "\\bottomrule\n",
       "\\end{tabular}\n"
      ],
      "text/plain": [
       "<lifelines.StatisticalResult: logrank_test>\n",
       "               t_0 = -1\n",
       " null_distribution = chi squared\n",
       "degrees_of_freedom = 1\n",
       "         test_name = logrank_test\n",
       "\n",
       "---\n",
       " test_statistic    p  -log2(p)\n",
       "           0.03 0.86      0.21"
      ]
     },
     "execution_count": 102,
     "metadata": {},
     "output_type": "execute_result"
    }
   ],
   "source": [
    "# Import logrank_test\n",
    "from lifelines.statistics import logrank_test\n",
    "\n",
    "# Run log-rank test to compare patients with and without pericardial effusion\n",
    "patient_results = logrank_test(has_pericardial_effusion['survival'],\n",
    "                                none_pericardial_effusion['survival'],\n",
    "                                has_pericardial_effusion['observed'],\n",
    "                                none_pericardial_effusion['observed'])\n",
    "\n",
    "patient_results\t\t\t\t\t\t\t"
   ]
  },
  {
   "cell_type": "code",
   "execution_count": 103,
   "metadata": {},
   "outputs": [
    {
     "name": "stdout",
     "output_type": "stream",
     "text": [
      "0.8648679727247761\n"
     ]
    }
   ],
   "source": [
    "# Import logrank_test\n",
    "from lifelines.statistics import logrank_test\n",
    "\n",
    "# Run log-rank test to compare patients with and without pericardial effusion\n",
    "patient_results = logrank_test(durations_A = has_pericardial_effusion['survival'], \n",
    "                               durations_B = none_pericardial_effusion['survival'], \n",
    "                               event_observed_A = has_pericardial_effusion['observed'], \n",
    "                               event_observed_B = none_pericardial_effusion['observed'])\n",
    "\n",
    "# Print out the p-value of log-rank test results\n",
    "print(patient_results.p_value)"
   ]
  },
  {
   "cell_type": "markdown",
   "metadata": {},
   "source": [
    "The null hypothesis is that patients with and without pericardial effusion have the same survival curves. Given this null hypothesis and the p-value you just calculated, we cannot reject the null hypothesis."
   ]
  },
  {
   "cell_type": "code",
   "execution_count": 104,
   "metadata": {},
   "outputs": [
    {
     "name": "stdout",
     "output_type": "stream",
     "text": [
      "(106, 9)\n",
      "                                  coef  exp(coef)  se(coef)  coef lower 95%  \\\n",
      "param   covariate                                                             \n",
      "lambda_ age                   0.006020   1.006038  0.005500       -0.004759   \n",
      "        epss                 -0.008989   0.991052  0.009334       -0.027283   \n",
      "        fractionalshortening  0.211862   1.235978  0.443839       -0.658046   \n",
      "        lvdd                  0.040572   1.041406  0.063635       -0.084151   \n",
      "        pericardialeffusion   0.013670   1.013764  0.120826       -0.223144   \n",
      "        wallmotion-index      0.039012   1.039783  0.215421       -0.383206   \n",
      "        wallmotion-score     -0.002955   0.997050  0.018639       -0.039486   \n",
      "        Intercept             3.025244  20.599021  0.444623        2.153799   \n",
      "rho_    Intercept             1.032141   2.807070  0.090551        0.854665   \n",
      "\n",
      "                              coef upper 95%  exp(coef) lower 95%  \\\n",
      "param   covariate                                                   \n",
      "lambda_ age                         0.016799             0.995252   \n",
      "        epss                        0.009306             0.973086   \n",
      "        fractionalshortening        1.081771             0.517862   \n",
      "        lvdd                        0.165294             0.919292   \n",
      "        pericardialeffusion         0.250485             0.799999   \n",
      "        wallmotion-index            0.461230             0.681673   \n",
      "        wallmotion-score            0.033577             0.961284   \n",
      "        Intercept                   3.896688             8.617534   \n",
      "rho_    Intercept                   1.209617             2.350587   \n",
      "\n",
      "                              exp(coef) upper 95%          z             p  \\\n",
      "param   covariate                                                            \n",
      "lambda_ age                              1.016941   1.094635  2.736766e-01   \n",
      "        epss                             1.009349  -0.963003  3.355460e-01   \n",
      "        fractionalshortening             2.949900   0.477340  6.331197e-01   \n",
      "        lvdd                             1.179740   0.637567  5.237557e-01   \n",
      "        pericardialeffusion              1.284648   0.113139  9.099201e-01   \n",
      "        wallmotion-index                 1.586023   0.181096  8.562923e-01   \n",
      "        wallmotion-score                 1.034147  -0.158515  8.740512e-01   \n",
      "        Intercept                       49.239107   6.804068  1.017053e-11   \n",
      "rho_    Intercept                        3.352201  11.398500  4.253867e-30   \n",
      "\n",
      "                               -log2(p)  \n",
      "param   covariate                        \n",
      "lambda_ age                    1.869456  \n",
      "        epss                   1.575417  \n",
      "        fractionalshortening   0.659450  \n",
      "        lvdd                   0.933034  \n",
      "        pericardialeffusion    0.136188  \n",
      "        wallmotion-index       0.223825  \n",
      "        wallmotion-score       0.194210  \n",
      "        Intercept             36.516814  \n",
      "rho_    Intercept             97.569068  \n",
      "When EPSS increases by 1, the average survival duration changes by a factor of  0.9910515885377265\n"
     ]
    }
   ],
   "source": [
    "# Import WeibullAFTFitter and instantiate\n",
    "from lifelines import WeibullAFTFitter\n",
    "aft = WeibullAFTFitter()\n",
    "\n",
    "data['observed'] = data['alive'] + 1.0\n",
    "data['observed'] = data['observed'].replace(2.0, 0.0)\n",
    "data = data[['survival', 'age', 'pericardialeffusion', 'fractionalshortening', 'epss', 'lvdd', 'wallmotion-score', 'wallmotion-index', 'observed']]\n",
    "data = data.dropna()\n",
    "print(data.shape)\n",
    "\n",
    "# Fit heart_patients data into aft\n",
    "aft.fit(df=data, duration_col='survival', event_col='observed')\n",
    "\n",
    "# Print the summary\n",
    "print(aft.summary)\n",
    "\n",
    "# Calculate the exponential of EPSS coefficient\n",
    "exp_epss = np.exp(aft.params_.loc['lambda_'].loc['epss'])\n",
    "print('When EPSS increases by 1, the average survival duration changes by a factor of ', exp_epss)"
   ]
  },
  {
   "cell_type": "code",
   "execution_count": 105,
   "metadata": {},
   "outputs": [
    {
     "name": "stdout",
     "output_type": "stream",
     "text": [
      "WeibullFitter 587.6146059960347\n",
      "ExponentialFitter 667.5437127520208\n",
      "LogNormalFitter 592.6526580505488\n"
     ]
    }
   ],
   "source": [
    "# Instantiate each fitter\n",
    "wb = WeibullFitter()\n",
    "exp = ExponentialFitter()\n",
    "log = LogNormalFitter()\n",
    "\n",
    "# Fit to data\n",
    "for model in [wb, exp, log]:\n",
    "  model.fit(durations=data['survival'],\n",
    "            event_observed=data['observed'])\n",
    "  # Print AIC\n",
    "  print(model.__class__.__name__, model.AIC_)"
   ]
  },
  {
   "cell_type": "code",
   "execution_count": null,
   "metadata": {},
   "outputs": [],
   "source": []
  }
 ],
 "metadata": {
  "interpreter": {
   "hash": "49b7c60525ac57614c77ce62a7fbc5562e422dd33509878f72c73a45c9f1d947"
  },
  "kernelspec": {
   "display_name": "Python 3.9.6 64-bit ('base': conda)",
   "language": "python",
   "name": "python3"
  },
  "language_info": {
   "codemirror_mode": {
    "name": "ipython",
    "version": 3
   },
   "file_extension": ".py",
   "mimetype": "text/x-python",
   "name": "python",
   "nbconvert_exporter": "python",
   "pygments_lexer": "ipython3",
   "version": "3.9.6"
  },
  "orig_nbformat": 4
 },
 "nbformat": 4,
 "nbformat_minor": 2
}
